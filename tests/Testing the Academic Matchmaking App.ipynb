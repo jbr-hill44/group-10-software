{
 "cells": [
  {
   "cell_type": "markdown",
   "id": "f94f79dd",
   "metadata": {},
   "source": [
    "## Testing the Academic Matchmaking App"
   ]
  },
  {
   "cell_type": "code",
   "execution_count": 1,
   "id": "973b4cb5",
   "metadata": {},
   "outputs": [],
   "source": [
    "import pytest\n",
    "import unittest\n",
    "from unittest.mock import patch\n",
    "import streamlit as st\n",
    "from streamlit.testing.v1 import AppTest\n",
    "from page.login_page import login_page"
   ]
  },
  {
   "cell_type": "code",
   "execution_count": 2,
   "id": "431d6699-fb04-4ede-8ff3-200cc5d8f396",
   "metadata": {},
   "outputs": [],
   "source": [
    "import warnings\n",
    "warnings.filterwarnings('ignore')"
   ]
  },
  {
   "cell_type": "markdown",
   "id": "cc075574-bdae-40df-b080-562ac3a5a487",
   "metadata": {},
   "source": [
    "### Helper function to run test cases\n",
    "The test can also be run in notebook using:\n",
    "\n",
    "```python\n",
    "if __name__ == '__main__':\n",
    "     unittest.main(argv=[''], exit=False)\n",
    "```"
   ]
  },
  {
   "cell_type": "code",
   "execution_count": 3,
   "id": "0606af49-a980-4d94-a7ce-c3cf883aaeb6",
   "metadata": {},
   "outputs": [],
   "source": [
    "def run_tests(test_class):\n",
    "    suite = unittest.TestLoader().loadTestsFromTestCase(test_class)\n",
    "    runner = unittest.TextTestRunner(verbosity=2)\n",
    "    result = runner.run(suite)"
   ]
  },
  {
   "cell_type": "markdown",
   "id": "828b07b9-7e2c-46b8-b23f-7e35a226aaec",
   "metadata": {},
   "source": [
    "### Helper function to run test suites"
   ]
  },
  {
   "cell_type": "code",
   "execution_count": 4,
   "id": "512f8561-fb75-425f-afe5-d93901552886",
   "metadata": {},
   "outputs": [],
   "source": [
    "def run_test_suites(test_classes):\n",
    "    suite = unittest.TestSuite()\n",
    "    for test_class in test_classes:\n",
    "        suite.addTest(unittest.makeSuite(test_class))\n",
    "    runner = unittest.TextTestRunner(verbosity = 2)\n",
    "    results = runner.run(suite)"
   ]
  },
  {
   "cell_type": "markdown",
   "id": "06c028bc-a4e0-49a0-9844-ac2a226247d4",
   "metadata": {},
   "source": [
    "### Helper function to add Test Classes to list"
   ]
  },
  {
   "cell_type": "code",
   "execution_count": 36,
   "id": "6b4b1759-b763-46b1-9804-f3fffb201903",
   "metadata": {},
   "outputs": [],
   "source": [
    "test_classes = []\n",
    "def add_test_class(test_class):\n",
    "    if test_class not in test_classes:\n",
    "        test_classes.append(test_class)"
   ]
  },
  {
   "cell_type": "markdown",
   "id": "2ae7dc3e-419c-4d75-90c8-b69409da2754",
   "metadata": {},
   "source": [
    "### Testing Login Page"
   ]
  },
  {
   "cell_type": "code",
   "execution_count": 13,
   "id": "155bc00f-7050-4cf3-904d-11ae71d1a09b",
   "metadata": {},
   "outputs": [],
   "source": [
    "class TestLoginPage(unittest.TestCase):\n",
    "\n",
    "    # test_successful_login\n",
    "    @patch('streamlit.success', return_value = True)\n",
    "    @patch('streamlit.button', return_value = True)\n",
    "    @patch('streamlit.text_input', side_effect = ['valid_user@matchmaking.com', 'valid_password'])\n",
    "    @patch('utils.db_handler.authenticate_user', return_value = True)\n",
    "    def test_successful_login(self, mock_auth, mock_input, mock_button, mock_success):\n",
    "        \n",
    "        # Clear and prepare a mock session_state\n",
    "        st.session_state.clear()\n",
    "        st.session_state['authenticated'] = False\n",
    "        st.session_state['page'] = 'login'\n",
    "    \n",
    "        # Call the login page function (guest_mode=False by default)\n",
    "        login_page()\n",
    "    \n",
    "        # Check the session_state updates\n",
    "        self.assertIn('authenticated', st.session_state)\n",
    "        self.assertEqual(st.session_state['page'], 'signup')\n",
    "    \n",
    "    # test_failed_login     \n",
    "    @patch('streamlit.error')\n",
    "    @patch('streamlit.button', side_effect=[True, False])  # Simulate 'Login' button clicked\n",
    "    @patch('streamlit.text_input', side_effect=['invalid_user@matchmaking.com', 'invalid_password'])\n",
    "    @patch('utils.db_handler.authenticate_user', return_value = False)\n",
    "    @patch('streamlit.session_state', new_callable=dict)\n",
    "    def test_failed_login(self, mock_session, mock_auth, mock_input, mock_button, mock_error):\n",
    "        \n",
    "        login_page()    \n",
    "    \n",
    "        # Check that st.error was called with the appropriate message\n",
    "        mock_error.assert_called_with('Invalid login credentials')\n",
    "\n",
    "    # test_missing_credentials\n",
    "    @patch('streamlit.error')\n",
    "    @patch('streamlit.button', side_effect=[True, False])\n",
    "    @patch('streamlit.text_input', side_effect = ['', ''])  # No input\n",
    "    def test_missing_credentials(self, mock_input, mock_button, mock_error):\n",
    "        \n",
    "        login_page()\n",
    "        mock_error.assert_called_with('Please provide email and password')"
   ]
  },
  {
   "cell_type": "code",
   "execution_count": 14,
   "id": "bd563149-22ae-48f0-8cc4-5b6afe5419f9",
   "metadata": {},
   "outputs": [
    {
     "name": "stderr",
     "output_type": "stream",
     "text": [
      "test_failed_login (__main__.TestLoginPage) ... ok\n",
      "test_missing_credentials (__main__.TestLoginPage) ... ok\n",
      "test_successful_login (__main__.TestLoginPage) ... ok\n",
      "\n",
      "----------------------------------------------------------------------\n",
      "Ran 3 tests in 6.213s\n",
      "\n",
      "OK\n"
     ]
    }
   ],
   "source": [
    "run_tests(TestLoginPage)"
   ]
  },
  {
   "cell_type": "code",
   "execution_count": 37,
   "id": "e1d46030-3e3a-4a9f-95e1-b5756a511428",
   "metadata": {},
   "outputs": [],
   "source": [
    "add_test_class(TestLoginPage)"
   ]
  },
  {
   "cell_type": "markdown",
   "id": "568a703a-933e-45e4-9f7b-da475f2a51d9",
   "metadata": {},
   "source": [
    "### Testing Signup Page"
   ]
  },
  {
   "cell_type": "code",
   "execution_count": 15,
   "id": "223ac63f-29b7-4c5b-a987-d8e9100be6d5",
   "metadata": {},
   "outputs": [
    {
     "name": "stdout",
     "output_type": "stream",
     "text": [
      "True\n",
      "True\n",
      "False\n",
      "False\n",
      "False\n"
     ]
    }
   ],
   "source": [
    "from page.signup_page import is_valid_email\n",
    "\n",
    "# Test valid emails\n",
    "print(is_valid_email('valid_user@matchmaking.com'))    # Expected: True\n",
    "print(is_valid_email('valid_user+tag@sub.domain.co'))  # Expected: True\n",
    "\n",
    "# Test invalid emails\n",
    "print(is_valid_email('invalid_usermatchmaking.com'))   # Expected: False\n",
    "print(is_valid_email('invalid_user@.com'))             # Expected: False\n",
    "print(is_valid_email('@matchmaking.com'))              # Expected: False"
   ]
  },
  {
   "cell_type": "code",
   "execution_count": 34,
   "id": "38115ee6-7ff1-4aa6-813b-3074867f35ab",
   "metadata": {},
   "outputs": [],
   "source": [
    "import streamlit as st\n",
    "from unittest.mock import patch, MagicMock\n",
    "from page.signup_page import verifyOTP\n",
    "\n",
    "class TestSignupPage(unittest.TestCase):\n",
    "\n",
    "    # test_successful_signup\n",
    "    @patch('streamlit.success', return_value = True)\n",
    "    @patch('page.signup_page.save_user')\n",
    "    @patch('streamlit.rerun')\n",
    "    def test_successful_signup(self, mock_rerun, mock_save_user, mock_success): \n",
    "        # Mock session state\n",
    "        st.session_state['otp'] = '123456'\n",
    "        st.session_state['verifying'] = True\n",
    "        st.session_state['email'] = 'valid_user@matchmaking.com'\n",
    "        st.session_state['password'] = 'valid_password'\n",
    "        st.session_state['role'] = 'student'\n",
    "        st.session_state['page'] = ''\n",
    "        \n",
    "        verifyOTP('123456')  # Match OTP\n",
    "        mock_save_user.assert_called_once_with('valid_user@matchmaking.com', 'valid_password', 'student')\n",
    "        self.assertEqual(st.session_state['page'], 'login')\n",
    "        mock_success.assert_called_with('OTP verified successfully')\n",
    "\n",
    "    # test_failed_signup    \n",
    "    @patch('page.signup_page.save_user')\n",
    "    @patch('streamlit.rerun')\n",
    "    @patch('streamlit.error')\n",
    "    def test_failed_signup(self, mock_error, mock_rerun, mock_save_user): \n",
    "        # Mock session state\n",
    "        st.session_state['otp'] = '123456'\n",
    "        st.session_state['verifying'] = True\n",
    "        st.session_state['email'] = 'invalid_user@matchmaking.com'\n",
    "        st.session_state['password'] = 'invalid_password'\n",
    "        st.session_state['role'] = 'student'\n",
    "        st.session_state['page'] = ''\n",
    "        \n",
    "        verifyOTP('000000')\n",
    "        mock_save_user.assert_not_called()\n",
    "        # Confirm error message is shown\n",
    "        mock_error.assert_called_once_with('Invalid OTP')"
   ]
  },
  {
   "cell_type": "code",
   "execution_count": 35,
   "id": "0e0108ef-eaf5-4d2d-8976-c19ac0ad675f",
   "metadata": {},
   "outputs": [
    {
     "name": "stderr",
     "output_type": "stream",
     "text": [
      "test_failed_signup (__main__.TestSignupPage) ... ok\n",
      "test_successful_signup (__main__.TestSignupPage) ... ok\n",
      "\n",
      "----------------------------------------------------------------------\n",
      "Ran 2 tests in 1.013s\n",
      "\n",
      "OK\n"
     ]
    }
   ],
   "source": [
    "run_tests(TestSignupPage)"
   ]
  },
  {
   "cell_type": "code",
   "execution_count": 38,
   "id": "d50590c4-e59d-46bc-88b9-8a9eac08c1da",
   "metadata": {},
   "outputs": [],
   "source": [
    "add_test_class(TestSignupPage)"
   ]
  },
  {
   "cell_type": "markdown",
   "id": "9a2fb0c6-c964-4136-8b6d-bdfa9e89dd84",
   "metadata": {},
   "source": [
    "### Testing Matching Logic"
   ]
  },
  {
   "cell_type": "code",
   "execution_count": 42,
   "id": "3004b174-73d2-4dcc-9e83-5ecc3075e524",
   "metadata": {},
   "outputs": [],
   "source": [
    "from sentence_transformers import SentenceTransformer, util\n",
    "\n",
    "def get_similarity_scores(student_skills, project_list, topn=5):\n",
    "    model = SentenceTransformer('paraphrase-MiniLM-L6-v2')\n",
    "    student_embed = model.encode(student_skills, convert_to_tensor=True)\n",
    "    project_embeds = model.encode(project_list, convert_to_tensor=True)\n",
    "\n",
    "    similarities = util.pytorch_cos_sim(student_embed, project_embeds)\n",
    "    sorted_indices = similarities.argsort(descending=True)\n",
    "\n",
    "    top_matches = []\n",
    "    for idx in sorted_indices[0][:topn]:\n",
    "        top_matches.append({\n",
    "            'project': project_list[idx],\n",
    "            'score': float(similarities[0, idx])\n",
    "        })\n",
    "    return top_matches"
   ]
  },
  {
   "cell_type": "code",
   "execution_count": 43,
   "id": "fed6c715-0f89-4689-bdd0-0b57d5774771",
   "metadata": {},
   "outputs": [],
   "source": [
    "class TestMatchingLogic(unittest.TestCase):\n",
    "\n",
    "    def setUp(self):\n",
    "        self.student_input = \"Machine Learning, Deep Learning, Python\"\n",
    "        self.project_list = [\n",
    "            \"Machine Learning for Healthcare\",\n",
    "            \"Classical Literature Analysis\",\n",
    "            \"Neural Networks in Finance\",\n",
    "            \"Python-based Data Science Pipelines\",\n",
    "            \"Medieval History Studies\"\n",
    "        ]\n",
    "\n",
    "    def test_top_match_is_relevant(self):\n",
    "        results = get_similarity_scores(self.student_input, self.project_list)\n",
    "        top_project = results[0]['project']\n",
    "        self.assertIn('Machine Learning', top_project)\n",
    "\n",
    "    def test_returns_limited_matches(self):\n",
    "        results = get_similarity_scores(self.student_input, self.project_list, topn=3)\n",
    "        self.assertEqual(len(results), 3)\n",
    "\n",
    "    def test_score_is_within_range(self):\n",
    "        results = get_similarity_scores(self.student_input, self.project_list)\n",
    "        for match in results:\n",
    "            self.assertGreaterEqual(match['score'], 0.0)\n",
    "            self.assertLessEqual(match['score'], 1.0)"
   ]
  },
  {
   "cell_type": "code",
   "execution_count": 44,
   "id": "e7574f86-df85-485b-a1d1-16c0e17fa255",
   "metadata": {},
   "outputs": [
    {
     "name": "stderr",
     "output_type": "stream",
     "text": [
      "test_returns_limited_matches (__main__.TestMatchingLogic) ... ok\n",
      "test_score_is_within_range (__main__.TestMatchingLogic) ... ok\n",
      "test_top_match_is_relevant (__main__.TestMatchingLogic) ... ok\n",
      "\n",
      "----------------------------------------------------------------------\n",
      "Ran 3 tests in 5.946s\n",
      "\n",
      "OK\n"
     ]
    }
   ],
   "source": [
    "run_tests(TestMatchingLogic)"
   ]
  },
  {
   "cell_type": "code",
   "execution_count": 45,
   "id": "cfd60927-aca4-49aa-b7f5-146213003685",
   "metadata": {},
   "outputs": [],
   "source": [
    "add_test_class(TestMatchingLogic)"
   ]
  },
  {
   "cell_type": "markdown",
   "id": "ea4d01fa-6dc5-448d-930f-d3b4dd0b50e3",
   "metadata": {},
   "source": [
    "### Testing the App Page (Integrated with seesion changes and matching)\n",
    "Expanded to **verify session changes** and to test what `match()` actually returns based on user state!"
   ]
  },
  {
   "cell_type": "code",
   "execution_count": 101,
   "id": "617a9037-286f-45db-b6b4-986b281901dc",
   "metadata": {},
   "outputs": [],
   "source": [
    "from page.app import app_page\n",
    "\n",
    "class TestAppPageExpanded(unittest.TestCase):\n",
    "\n",
    "    def setUp(self):\n",
    "        st.session_state.clear()\n",
    "        st.session_state['authenticated'] = False\n",
    "        st.session_state['guest_mode'] = False\n",
    "        st.session_state['page'] = 'login'\n",
    "        st.session_state['extra_input_params'] = {}\n",
    "\n",
    "    @patch('utils.init_session.reset_session')\n",
    "    @patch('page.matching.match')\n",
    "    def test_guest_mode_session_changes_on_login(self, mock_match, mock_reset_session):\n",
    "        st.session_state['guest_mode'] = True\n",
    "\n",
    "    # Case 1: Login button is not clicked\n",
    "    def button_side_effect(label, *args, **kwargs):\n",
    "        return label == 'Find Matches'\n",
    "        with patch('streamlit.button', side_effect=button_side_effect):\n",
    "            app_page()\n",
    "            mock_match.assert_called_once()\n",
    "            self.assertEqual(st.session_state['page'], 'app')\n",
    "\n",
    "        # Case 2: Login button clicked\n",
    "        mock_match.reset_mock()\n",
    "        mock_reset_session.side_effect = lambda: st.session_state.update({\n",
    "            'authenticated': False,\n",
    "            'guest_mode': False,\n",
    "            'page': 'login'\n",
    "        })\n",
    "\n",
    "        with patch('streamlit.button', side_effect=[True]), patch('streamlit.rerun') as mock_rerun:\n",
    "            app_page()\n",
    "            self.assertFalse(st.session_state['authenticated'])\n",
    "            self.assertFalse(st.session_state['guest_mode'])\n",
    "            self.assertEqual(st.session_state['page'], 'login')\n",
    "            mock_rerun.assert_called_once()\n",
    "\n",
    "    @patch('utils.init_session.reset_session')\n",
    "    @patch('page.matching.match')\n",
    "    def test_authenticated_user_logout_behavior(self, mock_match, mock_reset_session):\n",
    "        st.session_state['authenticated'] = True\n",
    "        st.session_state['guest_mode'] = False\n",
    "\n",
    "        # Case: Logout button clicked\n",
    "        mock_reset_session.side_effect = lambda: st.session_state.update({\n",
    "            'authenticated': False,\n",
    "            'guest_mode': False,\n",
    "            'page': 'login'\n",
    "        })\n",
    "\n",
    "        with patch('streamlit.button', return_value=True), patch('streamlit.rerun') as mock_rerun:\n",
    "            app_page()\n",
    "            self.assertFalse(st.session_state['authenticated'])\n",
    "            self.assertEqual(st.session_state['page'], 'login')\n",
    "            mock_rerun.assert_called_once()\n",
    "\n",
    "        # Case: No logout click\n",
    "        mock_reset_session.reset_mock()\n",
    "        mock_rerun.reset_mock()\n",
    "        st.session_state['authenticated'] = True\n",
    "\n",
    "    def button_side_effect(label, *args, **kwargs):\n",
    "        return label == 'Find Matches'\n",
    "        with patch('streamlit.button', side_effect=button_side_effect):\n",
    "            app_page()\n",
    "            mock_match.assert_called_once()\n",
    "\n",
    "    @patch('page.matching.match')\n",
    "    def test_guest_and_authenticated_users_call_match(self, mock_match):\n",
    "        # Guest\n",
    "        st.session_state['guest_mode'] = True\n",
    "        st.session_state['authenticated'] = False\n",
    "\n",
    "    def button_side_effect(label, *args, **kwargs):\n",
    "        return label == 'Find Matches'\n",
    "        with patch('streamlit.button', side_effect=button_side_effect):\n",
    "            app_page()\n",
    "            mock_match.assert_called_once()\n",
    "            mock_match.reset_mock()\n",
    "\n",
    "        # Authenticated\n",
    "        st.session_state['guest_mode'] = False\n",
    "        st.session_state['authenticated'] = True\n",
    "        with patch('streamlit.button', return_value=False):\n",
    "            app_page()\n",
    "            mock_match.assert_called_once()"
   ]
  },
  {
   "cell_type": "code",
   "execution_count": 102,
   "id": "c7ff514b-323a-4011-b301-8546f625167e",
   "metadata": {},
   "outputs": [
    {
     "name": "stderr",
     "output_type": "stream",
     "text": [
      "test_authenticated_user_logout_behavior (__main__.TestAppPageExpanded) ... ok\n",
      "test_guest_and_authenticated_users_call_match (__main__.TestAppPageExpanded) ... ok\n",
      "test_guest_mode_session_changes_on_login (__main__.TestAppPageExpanded) ... ok\n",
      "\n",
      "----------------------------------------------------------------------\n",
      "Ran 3 tests in 0.007s\n",
      "\n",
      "OK\n"
     ]
    }
   ],
   "source": [
    "run_tests(TestAppPageExpanded)"
   ]
  },
  {
   "cell_type": "code",
   "execution_count": 103,
   "id": "24e214b1-1f01-4cfa-8d08-5d4c433d1301",
   "metadata": {},
   "outputs": [],
   "source": [
    "add_test_class(TestAppPageExpanded)"
   ]
  },
  {
   "cell_type": "markdown",
   "id": "1700ef7a-cdb6-4267-a770-71038053e948",
   "metadata": {},
   "source": [
    "## Testing the database-related functions"
   ]
  },
  {
   "cell_type": "code",
   "execution_count": 113,
   "id": "6d50c284-68f2-4a65-ae82-c7bac7b85cdd",
   "metadata": {},
   "outputs": [],
   "source": [
    "import unittest\n",
    "from unittest.mock import patch, MagicMock\n",
    "import bcrypt\n",
    "import pandas as pd\n",
    "from utils import db_handler  \n",
    "\n",
    "class TestDBHandler(unittest.TestCase):\n",
    "\n",
    "    @patch('utils.db_handler.psycopg2.connect')\n",
    "    def test_verify_duplicate_user_true(self, mock_connect):\n",
    "        mock_cursor = MagicMock()\n",
    "        mock_cursor.fetchone.return_value = [1]\n",
    "        mock_conn = MagicMock()\n",
    "        mock_conn.cursor.return_value = mock_cursor\n",
    "        mock_connect.return_value = mock_conn\n",
    "\n",
    "        result = db_handler.verify_duplicate_user('test@matchmaking.com')\n",
    "        self.assertTrue(result)\n",
    "\n",
    "    @patch('utils.db_handler.psycopg2.connect')\n",
    "    def test_verify_duplicate_user_false(self, mock_connect):\n",
    "        mock_cursor = MagicMock()\n",
    "        mock_cursor.fetchone.return_value = [0]\n",
    "        mock_conn = MagicMock()\n",
    "        mock_conn.cursor.return_value = mock_cursor\n",
    "        mock_connect.return_value = mock_conn\n",
    "\n",
    "        result = db_handler.verify_duplicate_user('valid_user@matchmaking.com')\n",
    "        self.assertFalse(result)\n",
    "\n",
    "    @patch('utils.db_handler.psycopg2.connect')\n",
    "    def test_authenticate_user_success(self, mock_connect):\n",
    "        password = 'validpassword'\n",
    "        hashed_pw = bcrypt.hashpw(password.encode(), bcrypt.gensalt()).decode()\n",
    "\n",
    "        mock_cursor = MagicMock()\n",
    "        mock_cursor.fetchone.return_value = [hashed_pw]\n",
    "        mock_conn = MagicMock()\n",
    "        mock_conn.cursor.return_value = mock_cursor\n",
    "        mock_connect.return_value = mock_conn\n",
    "\n",
    "        result = db_handler.authenticate_user('user@matchmaking.com', password)\n",
    "        self.assertTrue(result)\n",
    "\n",
    "    @patch('utils.db_handler.psycopg2.connect')\n",
    "    def test_authenticate_user_failure(self, mock_connect):\n",
    "        # Case where email is not found\n",
    "        mock_cursor = MagicMock()\n",
    "        mock_cursor.fetchone.return_value = None\n",
    "        mock_conn = MagicMock()\n",
    "        mock_conn.cursor.return_value = mock_cursor\n",
    "        mock_connect.return_value = mock_conn\n",
    "\n",
    "        result = db_handler.authenticate_user('fake_user@matchmaking.com', 'invalidpassword')\n",
    "        self.assertFalse(result)\n",
    "\n",
    "    @patch('utils.db_handler.psycopg2.connect')\n",
    "    def test_save_user_executes_insert(self, mock_connect):\n",
    "        mock_cursor = MagicMock()\n",
    "        mock_conn = MagicMock()\n",
    "        mock_conn.cursor.return_value = mock_cursor\n",
    "        mock_connect.return_value = mock_conn\n",
    "\n",
    "        db_handler.save_user('new_user@matchmaking.com', 'newpassword', 'student')\n",
    "        self.assertTrue(mock_cursor.execute.called)\n",
    "\n",
    "    @patch('utils.db_handler.psycopg2.connect')\n",
    "    def test_get_users_returns_list(self, mock_connect):\n",
    "        mock_cursor = MagicMock()\n",
    "        mock_cursor.fetchall.return_value = [('user1', 'password1', 'student')]\n",
    "        mock_conn = MagicMock()\n",
    "        mock_conn.cursor.return_value = mock_cursor\n",
    "        mock_connect.return_value = mock_conn\n",
    "\n",
    "        users = db_handler.get_users()\n",
    "        self.assertIsInstance(users, list)\n",
    "        self.assertEqual(users[0][0], 'user1')\n",
    "\n",
    "    @patch('utils.db_handler.pd.read_sql_query')\n",
    "    def test_get_projects_returns_dataframe(self, mock_read_sql):\n",
    "        df = pd.DataFrame({'id': [1], 'title': ['AI Research']})\n",
    "        mock_read_sql.return_value = df\n",
    "\n",
    "        result = db_handler.get_projects()\n",
    "        self.assertIsInstance(result, pd.DataFrame)\n",
    "        self.assertEqual(result.iloc[0]['title'], 'AI Research')"
   ]
  },
  {
   "cell_type": "code",
   "execution_count": 114,
   "id": "1ca50e02-2c1f-4520-b2ab-0fe7bec9a8da",
   "metadata": {},
   "outputs": [
    {
     "name": "stderr",
     "output_type": "stream",
     "text": [
      "test_authenticate_user_failure (__main__.TestDBHandler) ... ok\n",
      "test_authenticate_user_success (__main__.TestDBHandler) ... ok\n",
      "test_get_projects_returns_dataframe (__main__.TestDBHandler) ... ok\n",
      "test_get_users_returns_list (__main__.TestDBHandler) ... ok\n",
      "test_save_user_executes_insert (__main__.TestDBHandler) ... ok\n",
      "test_verify_duplicate_user_false (__main__.TestDBHandler) ... ok\n",
      "test_verify_duplicate_user_true (__main__.TestDBHandler) ... ok\n",
      "\n",
      "----------------------------------------------------------------------\n",
      "Ran 7 tests in 0.635s\n",
      "\n",
      "OK\n"
     ]
    }
   ],
   "source": [
    "run_tests(TestDBHandler)"
   ]
  },
  {
   "cell_type": "code",
   "execution_count": 111,
   "id": "c72aa847-2f29-419d-84a2-e9856ef6133d",
   "metadata": {},
   "outputs": [],
   "source": [
    "add_test_class(TestDBHandler)"
   ]
  },
  {
   "cell_type": "markdown",
   "id": "82baa658-2d80-4be5-aa27-f8d4c2da1bfc",
   "metadata": {},
   "source": [
    "### Run test suites"
   ]
  },
  {
   "cell_type": "code",
   "execution_count": 120,
   "id": "bb29e919-e768-43c6-96cb-ea242a6f8f37",
   "metadata": {},
   "outputs": [
    {
     "name": "stderr",
     "output_type": "stream",
     "text": [
      "test_failed_login (__main__.TestLoginPage) ... ok\n",
      "test_missing_credentials (__main__.TestLoginPage) ... ok\n",
      "test_successful_login (__main__.TestLoginPage) ... ok\n",
      "test_failed_signup (__main__.TestSignupPage) ... ok\n",
      "test_successful_signup (__main__.TestSignupPage) ... ok\n",
      "test_returns_limited_matches (__main__.TestMatchingLogic) ... ok\n",
      "test_score_is_within_range (__main__.TestMatchingLogic) ... ok\n",
      "test_top_match_is_relevant (__main__.TestMatchingLogic) ... ok\n",
      "test_authenticated_user_logout_behavior (__main__.TestAppPageExpanded) ... ok\n",
      "test_guest_and_authenticated_users_call_match (__main__.TestAppPageExpanded) ... ok\n",
      "test_guest_mode_session_changes_on_login (__main__.TestAppPageExpanded) ... ok\n",
      "test_authenticate_user_failure (__main__.TestDBHandler) ... ok\n",
      "test_authenticate_user_success (__main__.TestDBHandler) ... ok\n",
      "test_get_projects_returns_dataframe (__main__.TestDBHandler) ... ok\n",
      "test_get_users_returns_list (__main__.TestDBHandler) ... ok\n",
      "test_save_user_executes_insert (__main__.TestDBHandler) ... ok\n",
      "test_verify_duplicate_user_false (__main__.TestDBHandler) ... ok\n",
      "test_verify_duplicate_user_true (__main__.TestDBHandler) ... ok\n",
      "\n",
      "----------------------------------------------------------------------\n",
      "Ran 18 tests in 23.754s\n",
      "\n",
      "OK\n"
     ]
    }
   ],
   "source": [
    "run_test_suites(test_classes)"
   ]
  },
  {
   "cell_type": "code",
   "execution_count": null,
   "id": "48a5ec49-7c09-4f2e-945f-4a7e1fd4b0bf",
   "metadata": {},
   "outputs": [],
   "source": []
  }
 ],
 "metadata": {
  "kernelspec": {
   "display_name": "Python 3 (ipykernel)",
   "language": "python",
   "name": "python3"
  },
  "language_info": {
   "codemirror_mode": {
    "name": "ipython",
    "version": 3
   },
   "file_extension": ".py",
   "mimetype": "text/x-python",
   "name": "python",
   "nbconvert_exporter": "python",
   "pygments_lexer": "ipython3",
   "version": "3.10.16"
  }
 },
 "nbformat": 4,
 "nbformat_minor": 5
}
